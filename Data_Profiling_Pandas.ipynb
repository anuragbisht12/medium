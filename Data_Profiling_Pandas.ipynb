{
  "nbformat": 4,
  "nbformat_minor": 0,
  "metadata": {
    "colab": {
      "name": "Data Profiling Pandas.ipynb",
      "provenance": [],
      "authorship_tag": "ABX9TyMAHRvTPQ3TDIQENwF4MiFA",
      "include_colab_link": true
    },
    "kernelspec": {
      "name": "python3",
      "display_name": "Python 3"
    }
  },
  "cells": [
    {
      "cell_type": "markdown",
      "metadata": {
        "id": "view-in-github",
        "colab_type": "text"
      },
      "source": [
        "<a href=\"https://colab.research.google.com/github/anuragbisht12/medium/blob/master/Data_Profiling_Pandas.ipynb\" target=\"_parent\"><img src=\"https://colab.research.google.com/assets/colab-badge.svg\" alt=\"Open In Colab\"/></a>"
      ]
    },
    {
      "cell_type": "code",
      "metadata": {
        "id": "XdkgG9J4WaBp",
        "colab_type": "code",
        "colab": {}
      },
      "source": [
        "!pip install -U pandas-profiling"
      ],
      "execution_count": 0,
      "outputs": []
    },
    {
      "cell_type": "code",
      "metadata": {
        "id": "cviVGMknVj1H",
        "colab_type": "code",
        "colab": {}
      },
      "source": [
        "import pandas as pd\n",
        "import pandas_profiling\n",
        "df=pd.read_csv('sample_data/california_housing_train.csv')\n",
        "df.profile_report()"
      ],
      "execution_count": 0,
      "outputs": []
    },
    {
      "cell_type": "code",
      "metadata": {
        "id": "2Bc4Uw9EW-u6",
        "colab_type": "code",
        "colab": {}
      },
      "source": [
        "profile=df.profile_report(title='Pandas profiling report')\n",
        "profile.to_file(output_file='Profiling_Output.html')\n"
      ],
      "execution_count": 0,
      "outputs": []
    }
  ]
}